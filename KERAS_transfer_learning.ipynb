{
  "nbformat": 4,
  "nbformat_minor": 0,
  "metadata": {
    "colab": {
      "name": "KERAS_transfer_learning.ipynb",
      "version": "0.3.2",
      "provenance": [],
      "collapsed_sections": [],
      "include_colab_link": true
    },
    "kernelspec": {
      "name": "python3",
      "display_name": "Python 3"
    },
    "accelerator": "GPU"
  },
  "cells": [
    {
      "cell_type": "markdown",
      "metadata": {
        "id": "view-in-github",
        "colab_type": "text"
      },
      "source": [
        "<a href=\"https://colab.research.google.com/github/rmartinshort/FruitClassification/blob/master/KERAS_transfer_learning.ipynb\" target=\"_parent\"><img src=\"https://colab.research.google.com/assets/colab-badge.svg\" alt=\"Open In Colab\"/></a>"
      ]
    },
    {
      "cell_type": "markdown",
      "metadata": {
        "id": "g_gCUmUAWSMf",
        "colab_type": "text"
      },
      "source": [
        "### This is an example of using Keras for transfer learning on a dataset of fruits. \n",
        "\n",
        "This notebook is used to train a CNN to recognize various categories of fruit. We use CoLab because of the free GPU and access to TensorBoard, which is helpful for analysing model performance"
      ]
    },
    {
      "cell_type": "code",
      "metadata": {
        "id": "c0FI62IvTzR4",
        "colab_type": "code",
        "colab": {}
      },
      "source": [
        "from keras.preprocessing.image import ImageDataGenerator, array_to_img, img_to_array, load_img\n",
        "from keras.layers import Dense, Activation, Flatten, Dropout\n",
        "from keras.models import Sequential, Model\n",
        "from keras.applications.vgg16 import VGG16, preprocess_input\n",
        "from keras import backend as K\n",
        "from keras.callbacks import TensorBoard\n",
        "from keras import optimizers\n",
        "import tensorflow as tf\n",
        "\n",
        "from PIL import Image\n",
        "import matplotlib.pyplot as plt\n",
        "import glob\n",
        "import numpy as np"
      ],
      "execution_count": 0,
      "outputs": []
    },
    {
      "cell_type": "code",
      "metadata": {
        "id": "Su7Jxwz566nz",
        "colab_type": "code",
        "outputId": "4006eaa3-0940-43ea-8985-f2c279850481",
        "colab": {
          "base_uri": "https://localhost:8080/",
          "height": 35
        }
      },
      "source": [
        "mv ../test_for_CNN1.zip ."
      ],
      "execution_count": 0,
      "outputs": [
        {
          "output_type": "stream",
          "text": [
            "mv: cannot stat '../test_for_CNN1.zip': No such file or directory\n"
          ],
          "name": "stdout"
        }
      ]
    },
    {
      "cell_type": "code",
      "metadata": {
        "id": "NJ7j7hTC690Z",
        "colab_type": "code",
        "outputId": "63e363fc-f85a-4b60-d93b-acbaa1509287",
        "colab": {
          "base_uri": "https://localhost:8080/",
          "height": 52
        }
      },
      "source": [
        "!unzip test_for_CNN1.zip"
      ],
      "execution_count": 0,
      "outputs": [
        {
          "output_type": "stream",
          "text": [
            "Archive:  test_for_CNN1.zip\n",
            "replace test_for_CNN1/train/asterix_potato/asterix_potato_045.jpg? [y]es, [n]o, [A]ll, [N]one, [r]ename: N\n"
          ],
          "name": "stdout"
        }
      ]
    },
    {
      "cell_type": "code",
      "metadata": {
        "id": "YHYBo1heVXTK",
        "colab_type": "code",
        "outputId": "5bc337eb-36ef-4469-bcf2-32ff11ea5c9b",
        "colab": {
          "base_uri": "https://localhost:8080/",
          "height": 35
        }
      },
      "source": [
        "if K.backend() == \"tensorflow\":\n",
        "    import tensorflow as tf\n",
        "    device_name = tf.test.gpu_device_name()\n",
        "    if device_name == '':\n",
        "        device_name = \"None\"\n",
        "    print('Using TensorFlow version:', tf.__version__, ', GPU:', device_name)"
      ],
      "execution_count": 0,
      "outputs": [
        {
          "output_type": "stream",
          "text": [
            "Using TensorFlow version: 1.14.0 , GPU: /device:GPU:0\n"
          ],
          "name": "stdout"
        }
      ]
    },
    {
      "cell_type": "code",
      "metadata": {
        "id": "ZGhITuO9Vaan",
        "colab_type": "code",
        "colab": {}
      },
      "source": [
        "train_dir = 'test_for_CNN1/train/'\n",
        "val_dir = 'test_for_CNN1/val'\n",
        "BATCH_SIZE = 20\n",
        "HEIGHT = 224\n",
        "WIDTH = 224 \n",
        "N_EPOCHS = 30"
      ],
      "execution_count": 0,
      "outputs": []
    },
    {
      "cell_type": "code",
      "metadata": {
        "id": "O0la7xBPXC7a",
        "colab_type": "code",
        "colab": {}
      },
      "source": [
        "#Load the base model \n",
        "base_model = VGG16(weights='imagenet',include_top=False,input_shape=(HEIGHT,WIDTH,3))"
      ],
      "execution_count": 0,
      "outputs": []
    },
    {
      "cell_type": "code",
      "metadata": {
        "id": "eAjhoD9FXDbU",
        "colab_type": "code",
        "colab": {}
      },
      "source": [
        "#Image augmentation for the training dataset. This could be adjusted to improve accurcy and prevent overfitting\n",
        "#Remember to rescale the image!!\n",
        "\n",
        "datagen_train = ImageDataGenerator(     \n",
        "        rescale=1. / 255,\n",
        "        horizontal_flip=True,\n",
        "        rotation_range=90,\n",
        "        vertical_flip=True,\n",
        "        fill_mode='nearest')\n",
        "\n",
        "#Image processing only for the test dataset\n",
        "datagen_val = ImageDataGenerator(\n",
        "        rescale=1. / 255)\n"
      ],
      "execution_count": 0,
      "outputs": []
    },
    {
      "cell_type": "code",
      "metadata": {
        "id": "uBIOPvBWXTBA",
        "colab_type": "code",
        "outputId": "8d18b538-f039-44be-f744-633fb909198e",
        "colab": {
          "base_uri": "https://localhost:8080/",
          "height": 35
        }
      },
      "source": [
        "train_generator = datagen_train.flow_from_directory(train_dir,target_size=(HEIGHT,WIDTH),batch_size=BATCH_SIZE,class_mode='categorical',shuffle=True)"
      ],
      "execution_count": 0,
      "outputs": [
        {
          "output_type": "stream",
          "text": [
            "Found 1850 images belonging to 15 classes.\n"
          ],
          "name": "stdout"
        }
      ]
    },
    {
      "cell_type": "code",
      "metadata": {
        "id": "BAr_JFWl0hQP",
        "colab_type": "code",
        "colab": {}
      },
      "source": [
        "#Dictionary of class labels to use\n",
        "classes_dict = train_generator.class_indices"
      ],
      "execution_count": 0,
      "outputs": []
    },
    {
      "cell_type": "code",
      "metadata": {
        "id": "yYs-8aqa04wQ",
        "colab_type": "code",
        "outputId": "c458f43b-c041-4c8d-97dd-0112b15168d9",
        "colab": {
          "base_uri": "https://localhost:8080/",
          "height": 276
        }
      },
      "source": [
        "classes_dict"
      ],
      "execution_count": 0,
      "outputs": [
        {
          "output_type": "execute_result",
          "data": {
            "text/plain": [
              "{'agata_potato': 0,\n",
              " 'asterix_potato': 1,\n",
              " 'cashew': 2,\n",
              " 'diamond_peach': 3,\n",
              " 'fuji_apple': 4,\n",
              " 'granny_smith_apple': 5,\n",
              " 'honneydew_melon': 6,\n",
              " 'kiwi': 7,\n",
              " 'nectarine': 8,\n",
              " 'onion': 9,\n",
              " 'orange': 10,\n",
              " 'plum': 11,\n",
              " 'spanish_pear': 12,\n",
              " 'taiti_lime': 13,\n",
              " 'watermelon': 14}"
            ]
          },
          "metadata": {
            "tags": []
          },
          "execution_count": 30
        }
      ]
    },
    {
      "cell_type": "code",
      "metadata": {
        "id": "X8hebAVrg9Xq",
        "colab_type": "code",
        "outputId": "71405705-0f8c-40ac-b811-781824d6121e",
        "colab": {
          "base_uri": "https://localhost:8080/",
          "height": 35
        }
      },
      "source": [
        "test_generator = datagen_val.flow_from_directory(val_dir,target_size=(HEIGHT,WIDTH),class_mode='categorical',shuffle=False)"
      ],
      "execution_count": 0,
      "outputs": [
        {
          "output_type": "stream",
          "text": [
            "Found 783 images belonging to 15 classes.\n"
          ],
          "name": "stdout"
        }
      ]
    },
    {
      "cell_type": "code",
      "metadata": {
        "id": "Pw0lrqmGg_yI",
        "colab_type": "code",
        "colab": {}
      },
      "source": [
        "def build_finetune_model(base_model, dropout, fc_layers, num_classes):\n",
        "  \n",
        "    ''' This generates a model whose final layer can be retrained as in transfer\n",
        "    learning '''\n",
        "    \n",
        "    \n",
        "    #Prevent the CNN layers from being trainable\n",
        "    for layer in base_model.layers:\n",
        "        layer.trainable = False\n",
        "\n",
        "    x = base_model.output\n",
        "    x = Flatten()(x)\n",
        "    for fc in fc_layers:\n",
        "        # New FC layer, random init\n",
        "        x = Dense(fc, activation='relu')(x) \n",
        "        x = Dropout(dropout)(x)\n",
        "\n",
        "    # New softmax layer\n",
        "    predictions = Dense(num_classes, activation='softmax')(x) \n",
        "    \n",
        "    finetune_model = Model(inputs=base_model.input, outputs=predictions)\n",
        "\n",
        "    return finetune_model\n",
        " \n",
        "\n",
        "def load_image(img_path, show=False):\n",
        "  \n",
        "    '''Load an image for viewing'''\n",
        "\n",
        "    img = load_img(img_path, target_size=(HEIGHT, WIDTH))\n",
        "    img_tensor = img_to_array(img)                    # (height, width, channels)\n",
        "    img_tensor = np.expand_dims(img_tensor, axis=0)         # (1, height, width, channels), add a dimension because the model expects this shape: (batch_size, height, width, channels)\n",
        "    img_tensor /= 255.                                      # imshow expects values in the range [0, 1]\n",
        "\n",
        "    if show:\n",
        "        plt.imshow(img_tensor[0])                           \n",
        "        plt.axis('off')\n",
        "        plt.show()\n",
        "\n",
        "    return img_tensor"
      ],
      "execution_count": 0,
      "outputs": []
    },
    {
      "cell_type": "code",
      "metadata": {
        "id": "hkJY-YfThpVG",
        "colab_type": "code",
        "colab": {}
      },
      "source": [
        "class_list = sorted(glob.glob('test_for_CNN1/train/*'))\n",
        "classes = [x.split('/')[-1] for x in class_list]\n"
      ],
      "execution_count": 0,
      "outputs": []
    },
    {
      "cell_type": "code",
      "metadata": {
        "id": "5vJNJ6x2pZFU",
        "colab_type": "code",
        "outputId": "1d81ef00-3540-4974-b89f-b27cf381b314",
        "colab": {
          "base_uri": "https://localhost:8080/",
          "height": 276
        }
      },
      "source": [
        "classes"
      ],
      "execution_count": 0,
      "outputs": [
        {
          "output_type": "execute_result",
          "data": {
            "text/plain": [
              "['agata_potato',\n",
              " 'asterix_potato',\n",
              " 'cashew',\n",
              " 'diamond_peach',\n",
              " 'fuji_apple',\n",
              " 'granny_smith_apple',\n",
              " 'honneydew_melon',\n",
              " 'kiwi',\n",
              " 'nectarine',\n",
              " 'onion',\n",
              " 'orange',\n",
              " 'plum',\n",
              " 'spanish_pear',\n",
              " 'taiti_lime',\n",
              " 'watermelon']"
            ]
          },
          "metadata": {
            "tags": []
          },
          "execution_count": 34
        }
      ]
    },
    {
      "cell_type": "code",
      "metadata": {
        "id": "wxfFEI1QpaH2",
        "colab_type": "code",
        "colab": {}
      },
      "source": [
        "FC_LAYERS = [4096,4096]\n",
        "\n",
        "#May want to use dropout to reduce overfitting, but we can experiment with this\n",
        "dropout = 0\n",
        "\n",
        "finetune_model = build_finetune_model(base_model, \n",
        "                                      dropout=dropout, \n",
        "                                      fc_layers=FC_LAYERS, \n",
        "                                      num_classes=len(class_list))"
      ],
      "execution_count": 0,
      "outputs": []
    },
    {
      "cell_type": "code",
      "metadata": {
        "id": "qhgmrWR7pikn",
        "colab_type": "code",
        "outputId": "a3ec9774-4fae-48b9-9781-d1df317c09f1",
        "colab": {
          "base_uri": "https://localhost:8080/",
          "height": 1000
        }
      },
      "source": [
        "finetune_model.summary()"
      ],
      "execution_count": 0,
      "outputs": [
        {
          "output_type": "stream",
          "text": [
            "_________________________________________________________________\n",
            "Layer (type)                 Output Shape              Param #   \n",
            "=================================================================\n",
            "input_2 (InputLayer)         (None, 224, 224, 3)       0         \n",
            "_________________________________________________________________\n",
            "block1_conv1 (Conv2D)        (None, 224, 224, 64)      1792      \n",
            "_________________________________________________________________\n",
            "block1_conv2 (Conv2D)        (None, 224, 224, 64)      36928     \n",
            "_________________________________________________________________\n",
            "block1_pool (MaxPooling2D)   (None, 112, 112, 64)      0         \n",
            "_________________________________________________________________\n",
            "block2_conv1 (Conv2D)        (None, 112, 112, 128)     73856     \n",
            "_________________________________________________________________\n",
            "block2_conv2 (Conv2D)        (None, 112, 112, 128)     147584    \n",
            "_________________________________________________________________\n",
            "block2_pool (MaxPooling2D)   (None, 56, 56, 128)       0         \n",
            "_________________________________________________________________\n",
            "block3_conv1 (Conv2D)        (None, 56, 56, 256)       295168    \n",
            "_________________________________________________________________\n",
            "block3_conv2 (Conv2D)        (None, 56, 56, 256)       590080    \n",
            "_________________________________________________________________\n",
            "block3_conv3 (Conv2D)        (None, 56, 56, 256)       590080    \n",
            "_________________________________________________________________\n",
            "block3_pool (MaxPooling2D)   (None, 28, 28, 256)       0         \n",
            "_________________________________________________________________\n",
            "block4_conv1 (Conv2D)        (None, 28, 28, 512)       1180160   \n",
            "_________________________________________________________________\n",
            "block4_conv2 (Conv2D)        (None, 28, 28, 512)       2359808   \n",
            "_________________________________________________________________\n",
            "block4_conv3 (Conv2D)        (None, 28, 28, 512)       2359808   \n",
            "_________________________________________________________________\n",
            "block4_pool (MaxPooling2D)   (None, 14, 14, 512)       0         \n",
            "_________________________________________________________________\n",
            "block5_conv1 (Conv2D)        (None, 14, 14, 512)       2359808   \n",
            "_________________________________________________________________\n",
            "block5_conv2 (Conv2D)        (None, 14, 14, 512)       2359808   \n",
            "_________________________________________________________________\n",
            "block5_conv3 (Conv2D)        (None, 14, 14, 512)       2359808   \n",
            "_________________________________________________________________\n",
            "block5_pool (MaxPooling2D)   (None, 7, 7, 512)         0         \n",
            "_________________________________________________________________\n",
            "flatten_2 (Flatten)          (None, 25088)             0         \n",
            "_________________________________________________________________\n",
            "dense_4 (Dense)              (None, 4096)              102764544 \n",
            "_________________________________________________________________\n",
            "dropout_3 (Dropout)          (None, 4096)              0         \n",
            "_________________________________________________________________\n",
            "dense_5 (Dense)              (None, 4096)              16781312  \n",
            "_________________________________________________________________\n",
            "dropout_4 (Dropout)          (None, 4096)              0         \n",
            "_________________________________________________________________\n",
            "dense_6 (Dense)              (None, 15)                61455     \n",
            "=================================================================\n",
            "Total params: 134,321,999\n",
            "Trainable params: 119,607,311\n",
            "Non-trainable params: 14,714,688\n",
            "_________________________________________________________________\n"
          ],
          "name": "stdout"
        }
      ]
    },
    {
      "cell_type": "code",
      "metadata": {
        "id": "jL-HWCNZpnnI",
        "colab_type": "code",
        "colab": {}
      },
      "source": [
        "# compile the model \n",
        "finetune_model.compile(loss = \"categorical_crossentropy\", optimizer = optimizers.Adam(lr=0.0001), metrics=[\"accuracy\"])"
      ],
      "execution_count": 0,
      "outputs": []
    },
    {
      "cell_type": "markdown",
      "metadata": {
        "id": "BEHsUhhYs_Nc",
        "colab_type": "text"
      },
      "source": [
        "### Here we're training the model and testing on the validation dataset"
      ]
    },
    {
      "cell_type": "code",
      "metadata": {
        "id": "QL6R7HRtq85r",
        "colab_type": "code",
        "outputId": "7dee610a-d555-42fe-94ae-88777ed76dce",
        "colab": {
          "base_uri": "https://localhost:8080/",
          "height": 1000
        }
      },
      "source": [
        "import tensorflow as tf\n",
        "\n",
        "step_size_train=train_generator.n//train_generator.batch_size\n",
        "step_size_test=test_generator.n//test_generator.batch_size\n",
        "\n",
        "with tf.device(\"/device:GPU:0\"):\n",
        "    history_pretrained = finetune_model.fit_generator(\n",
        "    train_generator,\n",
        "    epochs=N_EPOCHS, \n",
        "    shuffle = True, \n",
        "    verbose = 1,\n",
        "    steps_per_epoch=step_size_train,\n",
        "    validation_data = test_generator, \n",
        "    validation_steps=step_size_test)"
      ],
      "execution_count": 0,
      "outputs": [
        {
          "output_type": "stream",
          "text": [
            "Epoch 1/30\n",
            "92/92 [==============================] - 49s 529ms/step - loss: 1.5890 - acc: 0.5391 - val_loss: 0.6612 - val_acc: 0.8021\n",
            "Epoch 2/30\n",
            "92/92 [==============================] - 43s 465ms/step - loss: 0.4712 - acc: 0.8587 - val_loss: 0.4349 - val_acc: 0.8589\n",
            "Epoch 3/30\n",
            "92/92 [==============================] - 43s 469ms/step - loss: 0.3828 - acc: 0.8690 - val_loss: 0.2389 - val_acc: 0.9254\n",
            "Epoch 4/30\n",
            "92/92 [==============================] - 43s 470ms/step - loss: 0.2614 - acc: 0.9087 - val_loss: 0.2690 - val_acc: 0.9108\n",
            "Epoch 5/30\n",
            "92/92 [==============================] - 43s 465ms/step - loss: 0.1996 - acc: 0.9342 - val_loss: 0.1948 - val_acc: 0.9241\n",
            "Epoch 6/30\n",
            "92/92 [==============================] - 43s 468ms/step - loss: 0.1891 - acc: 0.9337 - val_loss: 0.1327 - val_acc: 0.9574\n",
            "Epoch 7/30\n",
            "92/92 [==============================] - 43s 470ms/step - loss: 0.1942 - acc: 0.9288 - val_loss: 0.2772 - val_acc: 0.9148\n",
            "Epoch 8/30\n",
            "92/92 [==============================] - 43s 467ms/step - loss: 0.1761 - acc: 0.9359 - val_loss: 0.1468 - val_acc: 0.9481\n",
            "Epoch 9/30\n",
            "92/92 [==============================] - 43s 468ms/step - loss: 0.1276 - acc: 0.9581 - val_loss: 0.1724 - val_acc: 0.9441\n",
            "Epoch 10/30\n",
            "92/92 [==============================] - 43s 470ms/step - loss: 0.1918 - acc: 0.9359 - val_loss: 0.2006 - val_acc: 0.9321\n",
            "Epoch 11/30\n",
            "92/92 [==============================] - 43s 467ms/step - loss: 0.1327 - acc: 0.9571 - val_loss: 0.1341 - val_acc: 0.9521\n",
            "Epoch 12/30\n",
            "92/92 [==============================] - 43s 469ms/step - loss: 0.1110 - acc: 0.9592 - val_loss: 0.1225 - val_acc: 0.9640\n",
            "Epoch 13/30\n",
            "92/92 [==============================] - 43s 466ms/step - loss: 0.0705 - acc: 0.9755 - val_loss: 0.1288 - val_acc: 0.9667\n",
            "Epoch 14/30\n",
            "92/92 [==============================] - 43s 472ms/step - loss: 0.1299 - acc: 0.9533 - val_loss: 0.0978 - val_acc: 0.9720\n",
            "Epoch 15/30\n",
            "92/92 [==============================] - 43s 467ms/step - loss: 0.1130 - acc: 0.9614 - val_loss: 0.1207 - val_acc: 0.9601\n",
            "Epoch 16/30\n",
            "92/92 [==============================] - 43s 467ms/step - loss: 0.1089 - acc: 0.9598 - val_loss: 0.1565 - val_acc: 0.9521\n",
            "Epoch 17/30\n",
            "92/92 [==============================] - 43s 466ms/step - loss: 0.1210 - acc: 0.9592 - val_loss: 0.2313 - val_acc: 0.9201\n",
            "Epoch 18/30\n",
            "92/92 [==============================] - 43s 469ms/step - loss: 0.1050 - acc: 0.9636 - val_loss: 0.1371 - val_acc: 0.9521\n",
            "Epoch 19/30\n",
            "92/92 [==============================] - 43s 469ms/step - loss: 0.0773 - acc: 0.9701 - val_loss: 0.1776 - val_acc: 0.9441\n",
            "Epoch 20/30\n",
            "92/92 [==============================] - 43s 464ms/step - loss: 0.1555 - acc: 0.9495 - val_loss: 0.1166 - val_acc: 0.9654\n",
            "Epoch 21/30\n",
            "92/92 [==============================] - 43s 470ms/step - loss: 0.0839 - acc: 0.9723 - val_loss: 0.1204 - val_acc: 0.9627\n",
            "Epoch 22/30\n",
            "92/92 [==============================] - 43s 466ms/step - loss: 0.0707 - acc: 0.9745 - val_loss: 0.1554 - val_acc: 0.9481\n",
            "Epoch 23/30\n",
            "92/92 [==============================] - 43s 464ms/step - loss: 0.0864 - acc: 0.9696 - val_loss: 0.3611 - val_acc: 0.8948\n",
            "Epoch 24/30\n",
            "92/92 [==============================] - 43s 465ms/step - loss: 0.1357 - acc: 0.9489 - val_loss: 0.2015 - val_acc: 0.9427\n",
            "Epoch 25/30\n",
            "92/92 [==============================] - 44s 477ms/step - loss: 0.0916 - acc: 0.9658 - val_loss: 0.1525 - val_acc: 0.9467\n",
            "Epoch 26/30\n",
            "92/92 [==============================] - 43s 465ms/step - loss: 0.0780 - acc: 0.9745 - val_loss: 0.1531 - val_acc: 0.9505\n",
            "Epoch 27/30\n",
            "92/92 [==============================] - 43s 467ms/step - loss: 0.0786 - acc: 0.9717 - val_loss: 0.2421 - val_acc: 0.9321\n",
            "Epoch 28/30\n",
            "92/92 [==============================] - 43s 471ms/step - loss: 0.0950 - acc: 0.9707 - val_loss: 0.0729 - val_acc: 0.9760\n",
            "Epoch 29/30\n",
            "92/92 [==============================] - 43s 465ms/step - loss: 0.0852 - acc: 0.9734 - val_loss: 0.0944 - val_acc: 0.9667\n",
            "Epoch 30/30\n",
            "92/92 [==============================] - 43s 466ms/step - loss: 0.0640 - acc: 0.9815 - val_loss: 0.1107 - val_acc: 0.9547\n"
          ],
          "name": "stdout"
        }
      ]
    },
    {
      "cell_type": "code",
      "metadata": {
        "id": "SR911-CqQruN",
        "colab_type": "code",
        "outputId": "9f66d4ba-1fcc-4dae-b22f-ca93fea4b5eb",
        "colab": {
          "base_uri": "https://localhost:8080/",
          "height": 591
        }
      },
      "source": [
        "#Lets take look at the evolution of the validation error over time\n",
        "\n",
        "# list all data in history\n",
        "print(history_pretrained.history.keys())\n",
        "# summarize history for accuracy\n",
        "plt.plot(history_pretrained.history['acc'])\n",
        "plt.plot(history_pretrained.history['val_acc'])\n",
        "plt.title('model accuracy')\n",
        "plt.ylabel('accuracy')\n",
        "plt.xlabel('epoch')\n",
        "plt.legend(['train', 'test'], loc='upper left')\n",
        "plt.show()\n",
        "# summarize history for loss\n",
        "plt.plot(history_pretrained.history['loss'])\n",
        "plt.plot(history_pretrained.history['val_loss'])\n",
        "plt.title('model loss')\n",
        "plt.ylabel('loss')\n",
        "plt.xlabel('epoch')\n",
        "plt.legend(['train', 'test'], loc='upper left')\n",
        "plt.show()"
      ],
      "execution_count": 0,
      "outputs": [
        {
          "output_type": "stream",
          "text": [
            "dict_keys(['val_loss', 'val_acc', 'loss', 'acc'])\n"
          ],
          "name": "stdout"
        },
        {
          "output_type": "display_data",
          "data": {
            "image/png": "[encoded data removed]",
            "text/plain": [
              "<Figure size 432x288 with 1 Axes>"
            ]
          },
          "metadata": {
            "tags": []
          }
        },
        {
          "output_type": "display_data",
          "data": {
            "image/png": "[encoded data removed]",
            "text/plain": [
              "<Figure size 432x288 with 1 Axes>"
            ]
          },
          "metadata": {
            "tags": []
          }
        }
      ]
    },
    {
      "cell_type": "markdown",
      "metadata": {
        "id": "inzUr8dEJwYc",
        "colab_type": "text"
      },
      "source": [
        "#### Manual assessment of the accuracy of the model"
      ]
    },
    {
      "cell_type": "code",
      "metadata": {
        "id": "R4Kqn8VT2Tci",
        "colab_type": "code",
        "outputId": "bd882c7c-54c5-40e5-9100-c20ffcf5fecc",
        "colab": {
          "base_uri": "https://localhost:8080/",
          "height": 276
        }
      },
      "source": [
        "fruits_accuracy_dict = classes_dict.copy()\n",
        "\n",
        "for fruit in classes_dict:\n",
        "  \n",
        "  print(f'Dealing with fruit {fruit}')\n",
        "  \n",
        "  #get the known class\n",
        "  correct_class = classes_dict[fruit]\n",
        "  \n",
        "  correct_classes = 0\n",
        "  i = 0\n",
        "  \n",
        "  for test_image in glob.glob('test_for_CNN1/val/%s/*' %fruit):\n",
        "    \n",
        "    input_image = load_image(test_image,show=False)\n",
        "    # check prediction\n",
        "    pred = finetune_model.predict(input_image)\n",
        "    #get the class\n",
        "    myclass = np.argmax(pred)\n",
        "    if myclass == correct_class:\n",
        "      correct_classes += 1\n",
        "\n",
        "    i+=1\n",
        "   \n",
        "  fruits_accuracy_dict[fruit] = correct_classes/i\n"
      ],
      "execution_count": 0,
      "outputs": [
        {
          "output_type": "stream",
          "text": [
            "Dealing with fruit agata_potato\n",
            "Dealing with fruit asterix_potato\n",
            "Dealing with fruit cashew\n",
            "Dealing with fruit diamond_peach\n",
            "Dealing with fruit fuji_apple\n",
            "Dealing with fruit granny_smith_apple\n",
            "Dealing with fruit honneydew_melon\n",
            "Dealing with fruit kiwi\n",
            "Dealing with fruit nectarine\n",
            "Dealing with fruit onion\n",
            "Dealing with fruit orange\n",
            "Dealing with fruit plum\n",
            "Dealing with fruit spanish_pear\n",
            "Dealing with fruit taiti_lime\n",
            "Dealing with fruit watermelon\n"
          ],
          "name": "stdout"
        }
      ]
    },
    {
      "cell_type": "markdown",
      "metadata": {
        "id": "wGFGC78mIUcm",
        "colab_type": "text"
      },
      "source": [
        "#### The following displays the class accuracies. They should be pretty good!"
      ]
    },
    {
      "cell_type": "code",
      "metadata": {
        "id": "GxkHq3L13ObP",
        "colab_type": "code",
        "outputId": "7ed73718-efc9-4c8e-f058-cadf607a2b1f",
        "colab": {
          "base_uri": "https://localhost:8080/",
          "height": 276
        }
      },
      "source": [
        "fruits_accuracy_dict"
      ],
      "execution_count": 0,
      "outputs": [
        {
          "output_type": "execute_result",
          "data": {
            "text/plain": [
              "{'agata_potato': 0.9833333333333333,\n",
              " 'asterix_potato': 0.8703703703703703,\n",
              " 'cashew': 1.0,\n",
              " 'diamond_peach': 0.9206349206349206,\n",
              " 'fuji_apple': 0.9682539682539683,\n",
              " 'granny_smith_apple': 1.0,\n",
              " 'honneydew_melon': 1.0,\n",
              " 'kiwi': 0.9803921568627451,\n",
              " 'nectarine': 0.9864864864864865,\n",
              " 'onion': 0.5454545454545454,\n",
              " 'orange': 1.0,\n",
              " 'plum': 0.9873417721518988,\n",
              " 'spanish_pear': 0.8297872340425532,\n",
              " 'taiti_lime': 0.967741935483871,\n",
              " 'watermelon': 1.0}"
            ]
          },
          "metadata": {
            "tags": []
          },
          "execution_count": 43
        }
      ]
    },
    {
      "cell_type": "code",
      "metadata": {
        "id": "Uge6xzj50P80",
        "colab_type": "code",
        "colab": {}
      },
      "source": [
        ""
      ],
      "execution_count": 0,
      "outputs": []
    }
  ]
}
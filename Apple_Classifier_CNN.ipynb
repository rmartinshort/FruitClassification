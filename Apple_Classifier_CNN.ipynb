{
  "nbformat": 4,
  "nbformat_minor": 0,
  "metadata": {
    "colab": {
      "name": "Apple_Classifier_CNN.ipynb",
      "version": "0.3.2",
      "provenance": [],
      "toc_visible": true,
      "include_colab_link": true
    },
    "kernelspec": {
      "name": "python3",
      "display_name": "Python 3"
    },
    "accelerator": "GPU"
  },
  "cells": [
    {
      "cell_type": "markdown",
      "metadata": {
        "id": "view-in-github",
        "colab_type": "text"
      },
      "source": [
        "<a href=\"https://colab.research.google.com/github/rmartinshort/FruitClassification/blob/master/Apple_Classifier_CNN.ipynb\" target=\"_parent\"><img src=\"https://colab.research.google.com/assets/colab-badge.svg\" alt=\"Open In Colab\"/></a>"
      ]
    },
    {
      "cell_type": "markdown",
      "metadata": {
        "id": "hQVHECiNvIgC",
        "colab_type": "text"
      },
      "source": [
        "## Building a CNN with Keras to classify types of apples\n",
        "\n",
        "These apple images come from the fruits-360 database. We are attempting to classify fruits into 13 different types of apple or 'other', meaning not one of the 13 types. Hopefully something similar can be done with Ehime oranges once we have a dataset. \n",
        "\n",
        "This is using transfer learning from VGG16, trained on imagenet. Other networks trained on other datasets are possible and could be investigated too"
      ]
    },
    {
      "cell_type": "code",
      "metadata": {
        "id": "Itg8dAf_u-y7",
        "colab_type": "code",
        "colab": {
          "base_uri": "https://localhost:8080/",
          "height": 35
        },
        "outputId": "e79a042b-a48e-4ed9-92e1-75618a8f6744"
      },
      "source": [
        "from keras.preprocessing.image import ImageDataGenerator, array_to_img, img_to_array, load_img\n",
        "from keras.layers import Dense, Activation, Flatten, Dropout\n",
        "from keras.models import Sequential, Model\n",
        "from keras.applications.vgg16 import VGG16, preprocess_input\n",
        "from keras import backend as K\n",
        "from keras.callbacks import TensorBoard\n",
        "from keras import optimizers\n",
        "import tensorflow as tf\n",
        "\n",
        "from PIL import Image\n",
        "import matplotlib.pyplot as plt\n",
        "import glob\n",
        "import numpy as np"
      ],
      "execution_count": 1,
      "outputs": [
        {
          "output_type": "stream",
          "text": [
            "Using TensorFlow backend.\n"
          ],
          "name": "stderr"
        }
      ]
    },
    {
      "cell_type": "code",
      "metadata": {
        "id": "ceBMR9Odv-xm",
        "colab_type": "code",
        "colab": {
          "base_uri": "https://localhost:8080/",
          "height": 35
        },
        "outputId": "3a17049a-e3f9-46ca-f75a-9fa4c82e26fc"
      },
      "source": [
        "if K.backend() == \"tensorflow\":\n",
        "    device_name = tf.test.gpu_device_name()\n",
        "    if device_name == '':\n",
        "        device_name = \"None\"\n",
        "    print('Using TensorFlow version:', tf.__version__, ', GPU:', device_name)"
      ],
      "execution_count": 2,
      "outputs": [
        {
          "output_type": "stream",
          "text": [
            "Using TensorFlow version: 1.14.0 , GPU: /device:GPU:0\n"
          ],
          "name": "stdout"
        }
      ]
    },
    {
      "cell_type": "markdown",
      "metadata": {
        "id": "mHd9kA2avIBg",
        "colab_type": "text"
      },
      "source": [
        "Specify the locations of the training and validation datasets, and the sizes of the images to be trained on. These sizes are determined by the input to VGG16"
      ]
    },
    {
      "cell_type": "code",
      "metadata": {
        "id": "mN0s3XqvwMwX",
        "colab_type": "code",
        "colab": {}
      },
      "source": [
        "train_dir = 'apples_for_CNN/train/'\n",
        "val_dir = 'apples_for_CNN/val'\n",
        "BATCH_SIZE = 20\n",
        "HEIGHT = 224\n",
        "WIDTH = 224 \n",
        "N_EPOCHS = 30"
      ],
      "execution_count": 0,
      "outputs": []
    },
    {
      "cell_type": "code",
      "metadata": {
        "id": "NJL9RZNlxcXG",
        "colab_type": "code",
        "colab": {
          "base_uri": "https://localhost:8080/",
          "height": 296
        },
        "outputId": "d9228c9f-46d8-49a5-f4fc-b86944a48df3"
      },
      "source": [
        "#Load the base model \n",
        "base_model = VGG16(weights='imagenet',include_top=False,input_shape=(HEIGHT,WIDTH,3))"
      ],
      "execution_count": 5,
      "outputs": [
        {
          "output_type": "stream",
          "text": [
            "WARNING: Logging before flag parsing goes to stderr.\n",
            "W0723 21:38:57.925352 140116165449600 deprecation_wrapper.py:119] From /usr/local/lib/python3.6/dist-packages/keras/backend/tensorflow_backend.py:74: The name tf.get_default_graph is deprecated. Please use tf.compat.v1.get_default_graph instead.\n",
            "\n",
            "W0723 21:38:57.932300 140116165449600 deprecation_wrapper.py:119] From /usr/local/lib/python3.6/dist-packages/keras/backend/tensorflow_backend.py:517: The name tf.placeholder is deprecated. Please use tf.compat.v1.placeholder instead.\n",
            "\n",
            "W0723 21:38:57.943272 140116165449600 deprecation_wrapper.py:119] From /usr/local/lib/python3.6/dist-packages/keras/backend/tensorflow_backend.py:4138: The name tf.random_uniform is deprecated. Please use tf.random.uniform instead.\n",
            "\n",
            "W0723 21:38:57.982489 140116165449600 deprecation_wrapper.py:119] From /usr/local/lib/python3.6/dist-packages/keras/backend/tensorflow_backend.py:3976: The name tf.nn.max_pool is deprecated. Please use tf.nn.max_pool2d instead.\n",
            "\n"
          ],
          "name": "stderr"
        },
        {
          "output_type": "stream",
          "text": [
            "Downloading data from https://github.com/fchollet/deep-learning-models/releases/download/v0.1/vgg16_weights_tf_dim_ordering_tf_kernels_notop.h5\n",
            "58892288/58889256 [==============================] - 5s 0us/step\n"
          ],
          "name": "stdout"
        },
        {
          "output_type": "stream",
          "text": [
            "W0723 21:39:03.906268 140116165449600 deprecation_wrapper.py:119] From /usr/local/lib/python3.6/dist-packages/keras/backend/tensorflow_backend.py:174: The name tf.get_default_session is deprecated. Please use tf.compat.v1.get_default_session instead.\n",
            "\n",
            "W0723 21:39:03.907603 140116165449600 deprecation_wrapper.py:119] From /usr/local/lib/python3.6/dist-packages/keras/backend/tensorflow_backend.py:181: The name tf.ConfigProto is deprecated. Please use tf.compat.v1.ConfigProto instead.\n",
            "\n"
          ],
          "name": "stderr"
        }
      ]
    },
    {
      "cell_type": "code",
      "metadata": {
        "id": "Olezmvcgxexw",
        "colab_type": "code",
        "colab": {}
      },
      "source": [
        "#Image augmentation for the training dataset. This could be adjusted to improve accurcy and prevent overfitting\n",
        "#Remember to rescale the image!!\n",
        "\n",
        "datagen_train = ImageDataGenerator(     \n",
        "    rescale=1. / 255,\n",
        "    horizontal_flip=True,\n",
        "    rotation_range=90,\n",
        "    fill_mode = \"nearest\",\n",
        "    zoom_range = 0.3,\n",
        "    width_shift_range = 0.3,\n",
        "    height_shift_range=0.3,\n",
        "    vertical_flip=True)\n",
        "\n",
        "#Image processing only for the test dataset\n",
        "datagen_val = ImageDataGenerator(\n",
        "        rescale=1. / 255)"
      ],
      "execution_count": 0,
      "outputs": []
    },
    {
      "cell_type": "code",
      "metadata": {
        "id": "8RS0DQOrx99T",
        "colab_type": "code",
        "colab": {
          "base_uri": "https://localhost:8080/",
          "height": 35
        },
        "outputId": "865a8fa5-3214-4db5-c940-4e513c851383"
      },
      "source": [
        "train_generator = datagen_train.flow_from_directory(train_dir,\\\n",
        "target_size=(HEIGHT,WIDTH),batch_size=BATCH_SIZE,class_mode='categorical',shuffle=True)\n"
      ],
      "execution_count": 8,
      "outputs": [
        {
          "output_type": "stream",
          "text": [
            "Found 4851 images belonging to 14 classes.\n"
          ],
          "name": "stdout"
        }
      ]
    },
    {
      "cell_type": "code",
      "metadata": {
        "id": "Wn94pCHZyB3A",
        "colab_type": "code",
        "colab": {
          "base_uri": "https://localhost:8080/",
          "height": 35
        },
        "outputId": "5186fb05-7fce-4a2b-ddf5-246f6da570a3"
      },
      "source": [
        "test_generator = datagen_val.flow_from_directory(val_dir,\\\n",
        "    target_size=(HEIGHT,WIDTH),class_mode='categorical',shuffle=False)"
      ],
      "execution_count": 9,
      "outputs": [
        {
          "output_type": "stream",
          "text": [
            "Found 2068 images belonging to 14 classes.\n"
          ],
          "name": "stdout"
        }
      ]
    },
    {
      "cell_type": "code",
      "metadata": {
        "id": "rgRgOxG5yKC2",
        "colab_type": "code",
        "colab": {}
      },
      "source": [
        "#Dictionary of class labels to use\n",
        "classes_dict = train_generator.class_indices"
      ],
      "execution_count": 0,
      "outputs": []
    },
    {
      "cell_type": "code",
      "metadata": {
        "id": "wPQspntAyNXt",
        "colab_type": "code",
        "colab": {
          "base_uri": "https://localhost:8080/",
          "height": 259
        },
        "outputId": "ee370972-e0df-497e-dbf1-5ce5c9759e06"
      },
      "source": [
        "#Here are the classes and their numerical encodings\n",
        "classes_dict"
      ],
      "execution_count": 11,
      "outputs": [
        {
          "output_type": "execute_result",
          "data": {
            "text/plain": [
              "{'Apple_Braeburn': 0,\n",
              " 'Apple_Crimson_Snow': 1,\n",
              " 'Apple_Golden_1': 2,\n",
              " 'Apple_Golden_2': 3,\n",
              " 'Apple_Golden_3': 4,\n",
              " 'Apple_Granny_Smith': 5,\n",
              " 'Apple_Pink_Lady': 6,\n",
              " 'Apple_Red_1': 7,\n",
              " 'Apple_Red_2': 8,\n",
              " 'Apple_Red_3': 9,\n",
              " 'Apple_Red_Delicious': 10,\n",
              " 'Apple_Red_Yellow_1': 11,\n",
              " 'Apple_Red_Yellow_2': 12,\n",
              " 'Other': 13}"
            ]
          },
          "metadata": {
            "tags": []
          },
          "execution_count": 11
        }
      ]
    },
    {
      "cell_type": "code",
      "metadata": {
        "id": "YeqalMqmyOU9",
        "colab_type": "code",
        "colab": {}
      },
      "source": [
        "def build_finetune_model(base_model, dropout, fc_layers, num_classes):\n",
        "  \n",
        "    ''' This generates a model whose final layer can be retrained as in transfer\n",
        "    learning '''\n",
        "    \n",
        "    \n",
        "    #Prevent the CNN layers from being trainable\n",
        "    for layer in base_model.layers:\n",
        "        layer.trainable = False\n",
        "\n",
        "    x = base_model.output\n",
        "    x = Flatten()(x)\n",
        "    for fc in fc_layers:\n",
        "        # New FC layer, random init\n",
        "        x = Dense(fc, activation='relu')(x) \n",
        "        x = Dropout(dropout)(x)\n",
        "\n",
        "    # New softmax layer\n",
        "    predictions = Dense(num_classes, activation='softmax')(x) \n",
        "    \n",
        "    finetune_model = Model(inputs=base_model.input, outputs=predictions)\n",
        "\n",
        "    return finetune_model\n",
        " \n",
        "\n",
        "def load_image(img_path, show=False):\n",
        "  \n",
        "    '''Load an image for viewing'''\n",
        "\n",
        "    img = load_img(img_path, target_size=(HEIGHT, WIDTH))\n",
        "    img_tensor = img_to_array(img)                    # (height, width, channels)\n",
        "    img_tensor = np.expand_dims(img_tensor, axis=0)         # (1, height, width, channels), add a dimension because the model expects this shape: (batch_size, height, width, channels)\n",
        "    img_tensor /= 255.                                      # imshow expects values in the range [0, 1]\n",
        "\n",
        "    if show:\n",
        "        plt.imshow(img_tensor[0])                           \n",
        "        plt.axis('off')\n",
        "        plt.show()\n",
        "\n",
        "    return img_tensor"
      ],
      "execution_count": 0,
      "outputs": []
    },
    {
      "cell_type": "code",
      "metadata": {
        "id": "MhQVAj5CyVsm",
        "colab_type": "code",
        "colab": {}
      },
      "source": [
        "#A list of the class names\n",
        "class_list = sorted(glob.glob('apples_for_CNN/train/*'))\n",
        "classes = [x.split('/')[-1] for x in class_list]"
      ],
      "execution_count": 0,
      "outputs": []
    },
    {
      "cell_type": "code",
      "metadata": {
        "id": "tQ9ZSGWXydkA",
        "colab_type": "code",
        "colab": {}
      },
      "source": [
        "FC_LAYERS = [4096,4096]\n",
        "\n",
        "#May want to use dropout to reduce overfitting, but we can experiment with this\n",
        "dropout = 0\n",
        "\n",
        "final_model = build_finetune_model(base_model, \n",
        "                                      dropout=dropout, \n",
        "                                      fc_layers=FC_LAYERS, \n",
        "                                      num_classes=len(class_list))"
      ],
      "execution_count": 0,
      "outputs": []
    },
    {
      "cell_type": "code",
      "metadata": {
        "id": "6GFmHSxnyoXp",
        "colab_type": "code",
        "colab": {
          "base_uri": "https://localhost:8080/",
          "height": 1000
        },
        "outputId": "5ff9c406-c8bb-426d-9955-b79c63e0a524"
      },
      "source": [
        "#Here is the model\n",
        "final_model.summary()"
      ],
      "execution_count": 19,
      "outputs": [
        {
          "output_type": "stream",
          "text": [
            "_________________________________________________________________\n",
            "Layer (type)                 Output Shape              Param #   \n",
            "=================================================================\n",
            "input_1 (InputLayer)         (None, 224, 224, 3)       0         \n",
            "_________________________________________________________________\n",
            "block1_conv1 (Conv2D)        (None, 224, 224, 64)      1792      \n",
            "_________________________________________________________________\n",
            "block1_conv2 (Conv2D)        (None, 224, 224, 64)      36928     \n",
            "_________________________________________________________________\n",
            "block1_pool (MaxPooling2D)   (None, 112, 112, 64)      0         \n",
            "_________________________________________________________________\n",
            "block2_conv1 (Conv2D)        (None, 112, 112, 128)     73856     \n",
            "_________________________________________________________________\n",
            "block2_conv2 (Conv2D)        (None, 112, 112, 128)     147584    \n",
            "_________________________________________________________________\n",
            "block2_pool (MaxPooling2D)   (None, 56, 56, 128)       0         \n",
            "_________________________________________________________________\n",
            "block3_conv1 (Conv2D)        (None, 56, 56, 256)       295168    \n",
            "_________________________________________________________________\n",
            "block3_conv2 (Conv2D)        (None, 56, 56, 256)       590080    \n",
            "_________________________________________________________________\n",
            "block3_conv3 (Conv2D)        (None, 56, 56, 256)       590080    \n",
            "_________________________________________________________________\n",
            "block3_pool (MaxPooling2D)   (None, 28, 28, 256)       0         \n",
            "_________________________________________________________________\n",
            "block4_conv1 (Conv2D)        (None, 28, 28, 512)       1180160   \n",
            "_________________________________________________________________\n",
            "block4_conv2 (Conv2D)        (None, 28, 28, 512)       2359808   \n",
            "_________________________________________________________________\n",
            "block4_conv3 (Conv2D)        (None, 28, 28, 512)       2359808   \n",
            "_________________________________________________________________\n",
            "block4_pool (MaxPooling2D)   (None, 14, 14, 512)       0         \n",
            "_________________________________________________________________\n",
            "block5_conv1 (Conv2D)        (None, 14, 14, 512)       2359808   \n",
            "_________________________________________________________________\n",
            "block5_conv2 (Conv2D)        (None, 14, 14, 512)       2359808   \n",
            "_________________________________________________________________\n",
            "block5_conv3 (Conv2D)        (None, 14, 14, 512)       2359808   \n",
            "_________________________________________________________________\n",
            "block5_pool (MaxPooling2D)   (None, 7, 7, 512)         0         \n",
            "_________________________________________________________________\n",
            "flatten_1 (Flatten)          (None, 25088)             0         \n",
            "_________________________________________________________________\n",
            "dense_1 (Dense)              (None, 4096)              102764544 \n",
            "_________________________________________________________________\n",
            "dropout_1 (Dropout)          (None, 4096)              0         \n",
            "_________________________________________________________________\n",
            "dense_2 (Dense)              (None, 4096)              16781312  \n",
            "_________________________________________________________________\n",
            "dropout_2 (Dropout)          (None, 4096)              0         \n",
            "_________________________________________________________________\n",
            "dense_3 (Dense)              (None, 14)                57358     \n",
            "=================================================================\n",
            "Total params: 134,317,902\n",
            "Trainable params: 119,603,214\n",
            "Non-trainable params: 14,714,688\n",
            "_________________________________________________________________\n"
          ],
          "name": "stdout"
        }
      ]
    },
    {
      "cell_type": "code",
      "metadata": {
        "id": "dA4oiRt8yvyS",
        "colab_type": "code",
        "colab": {
          "base_uri": "https://localhost:8080/",
          "height": 72
        },
        "outputId": "af241f4b-0cf5-48a2-8864-0e9aaec77b50"
      },
      "source": [
        "# compile the model \n",
        "final_model.compile(loss = \"categorical_crossentropy\", optimizer = optimizers.Adam(lr=0.0001), metrics=[\"accuracy\"])"
      ],
      "execution_count": 21,
      "outputs": [
        {
          "output_type": "stream",
          "text": [
            "W0723 21:45:05.102888 140116165449600 deprecation_wrapper.py:119] From /usr/local/lib/python3.6/dist-packages/keras/optimizers.py:790: The name tf.train.Optimizer is deprecated. Please use tf.compat.v1.train.Optimizer instead.\n",
            "\n"
          ],
          "name": "stderr"
        }
      ]
    },
    {
      "cell_type": "code",
      "metadata": {
        "id": "SKEyr3LAy2_T",
        "colab_type": "code",
        "colab": {
          "base_uri": "https://localhost:8080/",
          "height": 1000
        },
        "outputId": "b390bc04-6e84-4b8f-fa8c-3dd9678ad209"
      },
      "source": [
        "#Train the model\n",
        "\n",
        "step_size_train=train_generator.n//train_generator.batch_size\n",
        "step_size_test=test_generator.n//test_generator.batch_size\n",
        "\n",
        "with tf.device(\"/device:GPU:0\"):\n",
        "    history_pretrained = final_model.fit_generator(\n",
        "    train_generator,\n",
        "    epochs=N_EPOCHS, \n",
        "    shuffle = True, \n",
        "    verbose = 1,\n",
        "    steps_per_epoch=step_size_train,\n",
        "    validation_data = test_generator, \n",
        "    validation_steps=step_size_test)"
      ],
      "execution_count": 23,
      "outputs": [
        {
          "output_type": "stream",
          "text": [
            "W0723 21:45:32.772161 140116165449600 deprecation.py:323] From /usr/local/lib/python3.6/dist-packages/tensorflow/python/ops/math_grad.py:1250: add_dispatch_support.<locals>.wrapper (from tensorflow.python.ops.array_ops) is deprecated and will be removed in a future version.\n",
            "Instructions for updating:\n",
            "Use tf.where in 2.0, which has the same broadcast rule as np.where\n"
          ],
          "name": "stderr"
        },
        {
          "output_type": "stream",
          "text": [
            "Epoch 1/30\n",
            "242/242 [==============================] - 78s 323ms/step - loss: 1.8061 - acc: 0.4258 - val_loss: 0.9111 - val_acc: 0.6724\n",
            "Epoch 2/30\n",
            "242/242 [==============================] - 68s 283ms/step - loss: 0.9486 - acc: 0.6784 - val_loss: 0.4966 - val_acc: 0.8463\n",
            "Epoch 3/30\n",
            "242/242 [==============================] - 68s 280ms/step - loss: 0.7633 - acc: 0.7382 - val_loss: 0.5626 - val_acc: 0.8075\n",
            "Epoch 4/30\n",
            "242/242 [==============================] - 68s 280ms/step - loss: 0.6737 - acc: 0.7654 - val_loss: 0.4614 - val_acc: 0.8409\n",
            "Epoch 5/30\n",
            "242/242 [==============================] - 68s 281ms/step - loss: 0.5620 - acc: 0.8047 - val_loss: 0.3818 - val_acc: 0.8644\n",
            "Epoch 6/30\n",
            "242/242 [==============================] - 69s 284ms/step - loss: 0.5785 - acc: 0.7981 - val_loss: 0.2979 - val_acc: 0.8969\n",
            "Epoch 7/30\n",
            "242/242 [==============================] - 68s 281ms/step - loss: 0.4900 - acc: 0.8280 - val_loss: 0.3476 - val_acc: 0.8679\n",
            "Epoch 8/30\n",
            "242/242 [==============================] - 68s 282ms/step - loss: 0.4974 - acc: 0.8236 - val_loss: 0.4861 - val_acc: 0.8301\n",
            "Epoch 9/30\n",
            "242/242 [==============================] - 68s 281ms/step - loss: 0.4682 - acc: 0.8405 - val_loss: 0.4349 - val_acc: 0.8536\n",
            "Epoch 10/30\n",
            "242/242 [==============================] - 69s 283ms/step - loss: 0.4157 - acc: 0.8485 - val_loss: 0.3405 - val_acc: 0.8728\n",
            "Epoch 11/30\n",
            "242/242 [==============================] - 68s 282ms/step - loss: 0.3814 - acc: 0.8637 - val_loss: 0.2206 - val_acc: 0.9209\n",
            "Epoch 12/30\n",
            "242/242 [==============================] - 69s 283ms/step - loss: 0.3915 - acc: 0.8616 - val_loss: 0.3165 - val_acc: 0.8910\n",
            "Epoch 13/30\n",
            "242/242 [==============================] - 68s 283ms/step - loss: 0.3850 - acc: 0.8635 - val_loss: 0.2708 - val_acc: 0.9052\n",
            "Epoch 14/30\n",
            "242/242 [==============================] - 68s 282ms/step - loss: 0.3755 - acc: 0.8668 - val_loss: 0.2193 - val_acc: 0.9322\n",
            "Epoch 15/30\n",
            "242/242 [==============================] - 69s 285ms/step - loss: 0.3668 - acc: 0.8667 - val_loss: 0.2492 - val_acc: 0.9145\n",
            "Epoch 16/30\n",
            "242/242 [==============================] - 68s 283ms/step - loss: 0.3491 - acc: 0.8759 - val_loss: 0.2854 - val_acc: 0.8885\n",
            "Epoch 17/30\n",
            "242/242 [==============================] - 69s 284ms/step - loss: 0.3339 - acc: 0.8778 - val_loss: 0.2000 - val_acc: 0.9347\n",
            "Epoch 18/30\n",
            "242/242 [==============================] - 68s 281ms/step - loss: 0.3446 - acc: 0.8798 - val_loss: 0.2010 - val_acc: 0.9312\n",
            "Epoch 19/30\n",
            "242/242 [==============================] - 69s 283ms/step - loss: 0.3102 - acc: 0.8910 - val_loss: 0.3451 - val_acc: 0.8821\n",
            "Epoch 20/30\n",
            "242/242 [==============================] - 68s 283ms/step - loss: 0.3191 - acc: 0.8854 - val_loss: 0.2099 - val_acc: 0.9244\n",
            "Epoch 21/30\n",
            "242/242 [==============================] - 68s 282ms/step - loss: 0.2850 - acc: 0.8961 - val_loss: 0.1831 - val_acc: 0.9327\n",
            "Epoch 22/30\n",
            "242/242 [==============================] - 68s 283ms/step - loss: 0.3017 - acc: 0.8886 - val_loss: 0.2585 - val_acc: 0.9028\n",
            "Epoch 23/30\n",
            "242/242 [==============================] - 68s 282ms/step - loss: 0.3117 - acc: 0.8899 - val_loss: 0.1586 - val_acc: 0.9347\n",
            "Epoch 24/30\n",
            "242/242 [==============================] - 68s 283ms/step - loss: 0.3031 - acc: 0.8887 - val_loss: 0.2416 - val_acc: 0.9170\n",
            "Epoch 25/30\n",
            "242/242 [==============================] - 68s 280ms/step - loss: 0.2838 - acc: 0.8980 - val_loss: 0.1390 - val_acc: 0.9528\n",
            "Epoch 26/30\n",
            "242/242 [==============================] - 68s 281ms/step - loss: 0.2819 - acc: 0.8999 - val_loss: 0.1596 - val_acc: 0.9371\n",
            "Epoch 27/30\n",
            "242/242 [==============================] - 68s 282ms/step - loss: 0.2826 - acc: 0.8988 - val_loss: 0.3621 - val_acc: 0.8821\n",
            "Epoch 28/30\n",
            "242/242 [==============================] - 68s 282ms/step - loss: 0.2906 - acc: 0.8918 - val_loss: 0.1817 - val_acc: 0.9381\n",
            "Epoch 29/30\n",
            "242/242 [==============================] - 68s 281ms/step - loss: 0.2649 - acc: 0.9083 - val_loss: 0.2319 - val_acc: 0.9190\n",
            "Epoch 30/30\n",
            "242/242 [==============================] - 68s 280ms/step - loss: 0.2515 - acc: 0.9139 - val_loss: 0.1625 - val_acc: 0.9416\n"
          ],
          "name": "stdout"
        }
      ]
    },
    {
      "cell_type": "code",
      "metadata": {
        "id": "uOv6Wr_ly9Gs",
        "colab_type": "code",
        "colab": {
          "base_uri": "https://localhost:8080/",
          "height": 591
        },
        "outputId": "07c8a3a5-3378-4291-c708-2c9e0772862a"
      },
      "source": [
        "#Lets take look at the evolution of the validation error over time\n",
        "\n",
        "# list all data in history\n",
        "print(history_pretrained.history.keys())\n",
        "# summarize history for accuracy\n",
        "plt.plot(history_pretrained.history['acc'])\n",
        "plt.plot(history_pretrained.history['val_acc'])\n",
        "plt.title('model accuracy')\n",
        "plt.ylabel('accuracy')\n",
        "plt.xlabel('epoch')\n",
        "plt.legend(['train', 'test'], loc='upper left')\n",
        "plt.show()\n",
        "# summarize history for loss\n",
        "plt.plot(history_pretrained.history['loss'])\n",
        "plt.plot(history_pretrained.history['val_loss'])\n",
        "plt.title('model loss')\n",
        "plt.ylabel('loss')\n",
        "plt.xlabel('epoch')\n",
        "plt.legend(['train', 'test'], loc='upper left')\n",
        "plt.show()"
      ],
      "execution_count": 24,
      "outputs": [
        {
          "output_type": "stream",
          "text": [
            "dict_keys(['val_loss', 'val_acc', 'loss', 'acc'])\n"
          ],
          "name": "stdout"
        },
        {
          "output_type": "display_data",
          "data": {
            "image/png": "[encoded data removed]",
            "text/plain": [
              "<Figure size 432x288 with 1 Axes>"
            ]
          },
          "metadata": {
            "tags": []
          }
        },
        {
          "output_type": "display_data",
          "data": {
            "image/png": "[encoded data removed]",
            "text/plain": [
              "<Figure size 432x288 with 1 Axes>"
            ]
          },
          "metadata": {
            "tags": []
          }
        }
      ]
    },
    {
      "cell_type": "markdown",
      "metadata": {
        "id": "aXBgEdJtAVtv",
        "colab_type": "text"
      },
      "source": [
        "### Assessment on the holdout dataset"
      ]
    },
    {
      "cell_type": "code",
      "metadata": {
        "id": "c5RA6NTk_7az",
        "colab_type": "code",
        "colab": {
          "base_uri": "https://localhost:8080/",
          "height": 259
        },
        "outputId": "39c88eaa-7e2c-481e-92ae-aa8b4e246486"
      },
      "source": [
        "fruits_accuracy_dict = classes_dict.copy()\n",
        "\n",
        "for fruit in classes_dict:\n",
        "  \n",
        "  print(f'Dealing with fruit {fruit}')\n",
        "  \n",
        "  #get the known class\n",
        "  correct_class = classes_dict[fruit]\n",
        "  \n",
        "  correct_classes = 0\n",
        "  i = 0\n",
        "  \n",
        "  for test_image in glob.glob('apples_for_CNN/holdout/%s/*' %fruit):\n",
        "    \n",
        "    input_image = load_image(test_image,show=False)\n",
        "    # check prediction\n",
        "    pred = final_model.predict(input_image)\n",
        "    #get the class\n",
        "    myclass = np.argmax(pred)\n",
        "    if myclass == correct_class:\n",
        "      correct_classes += 1\n",
        "\n",
        "    i+=1\n",
        "   \n",
        "  fruits_accuracy_dict[fruit] = correct_classes/i"
      ],
      "execution_count": 26,
      "outputs": [
        {
          "output_type": "stream",
          "text": [
            "Dealing with fruit Apple_Braeburn\n",
            "Dealing with fruit Apple_Crimson_Snow\n",
            "Dealing with fruit Apple_Golden_1\n",
            "Dealing with fruit Apple_Golden_2\n",
            "Dealing with fruit Apple_Golden_3\n",
            "Dealing with fruit Apple_Granny_Smith\n",
            "Dealing with fruit Apple_Pink_Lady\n",
            "Dealing with fruit Apple_Red_1\n",
            "Dealing with fruit Apple_Red_2\n",
            "Dealing with fruit Apple_Red_3\n",
            "Dealing with fruit Apple_Red_Delicious\n",
            "Dealing with fruit Apple_Red_Yellow_1\n",
            "Dealing with fruit Apple_Red_Yellow_2\n",
            "Dealing with fruit Other\n"
          ],
          "name": "stdout"
        }
      ]
    },
    {
      "cell_type": "code",
      "metadata": {
        "id": "pHhcBHyzAbjU",
        "colab_type": "code",
        "colab": {
          "base_uri": "https://localhost:8080/",
          "height": 259
        },
        "outputId": "a86ebeb0-bfda-427c-bc6c-6064d4951af7"
      },
      "source": [
        "fruits_accuracy_dict"
      ],
      "execution_count": 27,
      "outputs": [
        {
          "output_type": "execute_result",
          "data": {
            "text/plain": [
              "{'Apple_Braeburn': 0.8353658536585366,\n",
              " 'Apple_Crimson_Snow': 0.8716216216216216,\n",
              " 'Apple_Golden_1': 0.9939024390243902,\n",
              " 'Apple_Golden_2': 1.0,\n",
              " 'Apple_Golden_3': 0.8571428571428571,\n",
              " 'Apple_Granny_Smith': 0.9817073170731707,\n",
              " 'Apple_Pink_Lady': 1.0,\n",
              " 'Apple_Red_1': 0.9451219512195121,\n",
              " 'Apple_Red_2': 0.8597560975609756,\n",
              " 'Apple_Red_3': 1.0,\n",
              " 'Apple_Red_Delicious': 1.0,\n",
              " 'Apple_Red_Yellow_1': 0.7012195121951219,\n",
              " 'Apple_Red_Yellow_2': 1.0,\n",
              " 'Other': 0.8656716417910447}"
            ]
          },
          "metadata": {
            "tags": []
          },
          "execution_count": 27
        }
      ]
    },
    {
      "cell_type": "code",
      "metadata": {
        "id": "Y10W9jeTAxkt",
        "colab_type": "code",
        "colab": {
          "base_uri": "https://localhost:8080/",
          "height": 35
        },
        "outputId": "9ac94694-ccd6-4f1e-e808-f8d71d32f8a6"
      },
      "source": [
        "#This is the mean accuracy on the holdout dataset - not bad!\n",
        "np.mean(list(fruits_accuracy_dict.values()))"
      ],
      "execution_count": 35,
      "outputs": [
        {
          "output_type": "execute_result",
          "data": {
            "text/plain": [
              "0.9222506636633735"
            ]
          },
          "metadata": {
            "tags": []
          },
          "execution_count": 35
        }
      ]
    },
    {
      "cell_type": "code",
      "metadata": {
        "id": "LvdaWsb8AuKO",
        "colab_type": "code",
        "colab": {}
      },
      "source": [
        ""
      ],
      "execution_count": 0,
      "outputs": []
    }
  ]
}